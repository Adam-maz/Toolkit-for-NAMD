{
 "cells": [
  {
   "cell_type": "markdown",
   "id": "01125c12-daaf-4e76-8d2f-11ba1db3cc79",
   "metadata": {
    "id": "01125c12-daaf-4e76-8d2f-11ba1db3cc79"
   },
   "source": [
    "Docs:\n",
    "[1] https://userguide.mdanalysis.org/stable/examples/analysis/trajectory_similarity/clustering_ensemble_similarity.html"
   ]
  },
  {
   "cell_type": "markdown",
   "id": "0ba18bd9-aa87-42c4-982d-0a6f72b85c62",
   "metadata": {
    "id": "0ba18bd9-aa87-42c4-982d-0a6f72b85c62"
   },
   "source": [
    "# **1) Initiall instructions**"
   ]
  },
  {
   "cell_type": "code",
   "execution_count": null,
   "id": "1ff47de3-6304-4ff9-8ad0-903c4d8b3797",
   "metadata": {
    "id": "1ff47de3-6304-4ff9-8ad0-903c4d8b3797"
   },
   "outputs": [],
   "source": [
    "!pip install  -q py3dmol"
   ]
  },
  {
   "cell_type": "code",
   "execution_count": null,
   "id": "026093b7-f66f-44c7-a824-a774f0e0efec",
   "metadata": {
    "id": "026093b7-f66f-44c7-a824-a774f0e0efec",
    "scrolled": true
   },
   "outputs": [],
   "source": [
    "import os\n",
    "import py3Dmol\n",
    "\n",
    "import MDAnalysis as mda\n",
    "from MDAnalysis.analysis import encore\n",
    "from MDAnalysis.analysis.encore.clustering import ClusteringMethod as clm\n",
    "\n",
    "from warnings import filterwarnings\n",
    "filterwarnings('ignore')"
   ]
  },
  {
   "cell_type": "code",
   "execution_count": null,
   "id": "3ac20f91-0efe-44ae-b541-773a028421ff",
   "metadata": {
    "id": "3ac20f91-0efe-44ae-b541-773a028421ff",
    "outputId": "3f1dbbfb-4619-499f-df27-36a2f9fe8a00"
   },
   "outputs": [],
   "source": [
    "\"\"\"Paste the path to the directory with the files that will be analyzed (without quotes) \"\"\"\n",
    "working_path = input('The path: \\n ')"
   ]
  },
  {
   "cell_type": "code",
   "execution_count": null,
   "id": "7f31bcd8-1994-49f3-94f9-efa545ab12b8",
   "metadata": {},
   "outputs": [],
   "source": [
    "\"\"\"How many clusters do you want? Paste number into window below\"\"\"\n",
    "clusters_no = int(input(\"Number of clusters: \"))"
   ]
  },
  {
   "cell_type": "code",
   "execution_count": null,
   "id": "d793a1e1-e540-44b2-9555-2ee832bc728f",
   "metadata": {
    "id": "d793a1e1-e540-44b2-9555-2ee832bc728f",
    "outputId": "560d9e28-86a5-4a23-a42f-e33314b96ac8"
   },
   "outputs": [],
   "source": [
    "os.chdir(working_path)\n",
    "%pwd"
   ]
  },
  {
   "cell_type": "code",
   "execution_count": null,
   "id": "b128d48a-fc39-4c2c-a996-6d6e6ca9e390",
   "metadata": {
    "id": "b128d48a-fc39-4c2c-a996-6d6e6ca9e390"
   },
   "outputs": [],
   "source": [
    "for file in os.listdir(os.getcwd()):\n",
    "    if file == \"step5_input.pdb\":\n",
    "        topology_file = file\n",
    "    elif file == \"step7_production.dcd\":\n",
    "        trajectory_file = file\n",
    "\n",
    "u = mda.Universe(topology_file, trajectory_file)"
   ]
  },
  {
   "cell_type": "markdown",
   "id": "Sx2iCktk08s5",
   "metadata": {
    "id": "Sx2iCktk08s5"
   },
   "source": [
    "# **2) Display Molecule**"
   ]
  },
  {
   "cell_type": "code",
   "execution_count": null,
   "id": "652700da-f8bb-4e33-95c4-35543db7007a",
   "metadata": {
    "id": "652700da-f8bb-4e33-95c4-35543db7007a",
    "outputId": "17de9d03-ab18-483e-fe17-159c969e2372",
    "scrolled": true
   },
   "outputs": [],
   "source": [
    "with open(topology_file, 'r') as file:\n",
    "    pdb_data = file.read()\n",
    "\n",
    "view = py3Dmol.view(width=640, height=800)\n",
    "view.addModel(pdb_data, format='pdb')\n",
    "view.setStyle({'cartoon':{'color':'plum'}})   #protein\n",
    "view.setStyle({'within': {'distance': 5, 'sel': {'resn': 'LIG'}}}, {'stick': {'colorscheme': 'yellow'}})   #aa within 5 A from ligand\n",
    "view.setStyle({'resn': 'LIG'}, {'stick': {'colorscheme': 'cyanCarbon'}})   #ligand\n",
    "view.zoomTo()\n",
    "view.show()"
   ]
  },
  {
   "cell_type": "markdown",
   "id": "SczZrn0l1BTK",
   "metadata": {
    "id": "SczZrn0l1BTK"
   },
   "source": [
    "# **3) Clusterization**"
   ]
  },
  {
   "cell_type": "code",
   "execution_count": null,
   "id": "9083d2ae-b6ee-4f83-8c08-53e310991366",
   "metadata": {},
   "outputs": [],
   "source": [
    "km = clm.KMeans(clusters_no)"
   ]
  },
  {
   "cell_type": "code",
   "execution_count": null,
   "id": "96dce43a-dde6-455d-b261-3fe21a161b42",
   "metadata": {},
   "outputs": [],
   "source": [
    "ces, details = encore.ces([u],\n",
    "                         clustering_method=[km],\n",
    "                         ncores=2)  #by default MDAnalysis uses 1 core for this task\n",
    "clusters = details['clustering'][0]"
   ]
  },
  {
   "cell_type": "code",
   "execution_count": null,
   "id": "290cbc4b-5097-42a9-a41a-9f6c6db7b3d7",
   "metadata": {
    "id": "290cbc4b-5097-42a9-a41a-9f6c6db7b3d7",
    "outputId": "8e8cb03d-5cbe-456a-c48e-93b3e0be1f9c",
    "scrolled": true
   },
   "outputs": [],
   "source": [
    "iterator1 = 0\n",
    "while iterator1 < len(clusters):\n",
    "    print(f'Cluster {iterator1 + 1}: {clusters.clusters[iterator1]}')\n",
    "    iterator1 += 1\n",
    "\n",
    "dictionary = {}\n",
    "iterator2 = 1\n",
    "for idx, elems in enumerate(clusters.clusters):\n",
    "    dictionary.update({f\"cluster_{iterator2}\": len(clusters.clusters[idx].elements)})\n",
    "    iterator2 += 1\n",
    "\n",
    "\n",
    "same_members = True \n",
    "(key, value) = max(dictionary.items(), key=lambda x: x[1])\n",
    "values_list = list(dictionary.values())\n",
    "for idx in range(len(values_list) -1):\n",
    "    if values_list[idx] != values_list[idx + 1]:\n",
    "        same_members = False\n",
    "    else:\n",
    "        same_members = True\n",
    "\n",
    "print()\n",
    "if same_members is True:\n",
    "    print(f'Clusters have the same number of conformations ({value} members)')\n",
    "else:\n",
    "    print(f'Most populated cluster: {key} ({value} members)')"
   ]
  },
  {
   "cell_type": "code",
   "execution_count": null,
   "id": "d2ba1ed1-db69-48a5-a063-9853ccc72d07",
   "metadata": {
    "id": "d2ba1ed1-db69-48a5-a063-9853ccc72d07",
    "outputId": "69224e90-6a78-4878-8982-ff43460083e1"
   },
   "outputs": [],
   "source": [
    "output_dir = os.getcwd()\n",
    "os.makedirs(output_dir, exist_ok=True)\n",
    "\n",
    "for idx, cluster in enumerate(clusters, start=1):\n",
    "    cluster_atoms = u.select_atoms('all')\n",
    "    cluster_filename = os.path.join(output_dir, f'cluster_{idx}.pdb')\n",
    "\n",
    "    with mda.Writer(cluster_filename) as w:\n",
    "        for frame in cluster:\n",
    "            cluster_atoms.positions = u.trajectory[frame].positions\n",
    "            w.write(cluster_atoms)\n",
    "    print(f'Cluster {idx} saved at {cluster_filename}')\n",
    "\n",
    "    centroid_idx = clusters.get_centroids()[idx - 1]\n",
    "    cluster_centroid_filename = os.path.join(output_dir, f'cluster_{idx}_centroid_idx_{centroid_idx}.pdb')\n",
    "\n",
    "    with mda.Writer(cluster_centroid_filename, n_atoms=u.atoms.n_atoms) as w2:\n",
    "        u.trajectory[centroid_idx]\n",
    "        w2.write(u)\n",
    "    print(f'Centroid of Cluster {idx} saved at {cluster_centroid_filename}')    "
   ]
  }
 ],
 "metadata": {
  "colab": {
   "provenance": []
  },
  "kernelspec": {
   "display_name": "Python 3 (ipykernel)",
   "language": "python",
   "name": "python3"
  },
  "language_info": {
   "codemirror_mode": {
    "name": "ipython",
    "version": 3
   },
   "file_extension": ".py",
   "mimetype": "text/x-python",
   "name": "python",
   "nbconvert_exporter": "python",
   "pygments_lexer": "ipython3",
   "version": "3.12.7"
  }
 },
 "nbformat": 4,
 "nbformat_minor": 5
}
